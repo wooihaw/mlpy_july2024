{
 "cells": [
  {
   "attachments": {},
   "cell_type": "markdown",
   "id": "bbab6aff-a5c5-41c1-86d0-d39b85c692dd",
   "metadata": {},
   "source": [
    "# Hands-on 1\n",
    "### Palmer Penguin Dataset\n",
    "The Palmer Penguin dataset is a popular dataset used for data science and machine learning, particularly for classification tasks. It provides information on three species of penguins: Adelie, Chinstrap, and Gentoo, collected from three islands in the Palmer Archipelago, Antarctica. The dataset is often used as an alternative to the Iris dataset for demonstrating data analysis and machine learning techniques.\n",
    "\n",
    "<img src=\"penguins.png\" width=\"400\" height=\"200\">\n",
    "\n",
    "### Description of the Dataset\n",
    "The Palmer Penguin dataset contains the following columns:\n",
    "\n",
    "- Species: The species of the penguin (Adelie, Chinstrap, Gentoo).\n",
    "- Island: The island where the penguin was observed (Torgersen, Biscoe, Dream).\n",
    "- Culmen Length (mm): The length of the penguin's culmen (the upper ridge of the beak) in millimeters.\n",
    "- Culmen Depth (mm): The depth of the penguin's culmen in millimeters.\n",
    "- Flipper Length (mm): The length of the penguin's flipper in millimeters.\n",
    "- Body Mass (g): The body mass of the penguin in grams.\n",
    "- Sex: The sex of the penguin (male, female).\n",
    "- Year: The year the observation was made."
   ]
  },
  {
   "cell_type": "code",
   "execution_count": 1,
   "id": "cdb17c42-c202-4cea-86d3-3164bf08c6ff",
   "metadata": {},
   "outputs": [],
   "source": [
    "# Initialization\n",
    "%matplotlib inline\n",
    "from warnings import filterwarnings\n",
    "filterwarnings(\"ignore\")"
   ]
  },
  {
   "cell_type": "code",
   "execution_count": 2,
   "id": "affd8d13-be82-4ff0-a360-0e19be925ce4",
   "metadata": {},
   "outputs": [],
   "source": [
    "# Import necessary libraries\n",
    "import pandas as pd\n",
    "import matplotlib.pyplot as plt\n",
    "from sklearn.neighbors import KNeighborsClassifier\n",
    "from sklearn.linear_model import LogisticRegression\n",
    "from sklearn.svm import SVC\n",
    "from sklearn.tree import DecisionTreeClassifier\n",
    "from sklearn.ensemble import RandomForestClassifier\n",
    "from sklearn.ensemble import GradientBoostingClassifier\n",
    "from sklearn.neural_network import MLPClassifier\n",
    "from sklearn.model_selection import train_test_split as split, StratifiedKFold, cross_val_score\n",
    "from sklearn.preprocessing import MinMaxScaler\n",
    "from sklearn.metrics import classification_report, ConfusionMatrixDisplay\n",
    "\n",
    "df = pd.read_csv(\"data/penguins.csv\")"
   ]
  },
  {
   "cell_type": "markdown",
   "id": "30a5856d-15a3-4d14-bdc9-ebaa40c52cf7",
   "metadata": {},
   "source": [
    "To do:\n",
    "- Print the first 5 rows of dataset."
   ]
  },
  {
   "cell_type": "code",
   "execution_count": 3,
   "id": "2e832407-b785-408f-96ff-79115122bcff",
   "metadata": {},
   "outputs": [
    {
     "data": {
      "text/html": [
       "<div>\n",
       "<style scoped>\n",
       "    .dataframe tbody tr th:only-of-type {\n",
       "        vertical-align: middle;\n",
       "    }\n",
       "\n",
       "    .dataframe tbody tr th {\n",
       "        vertical-align: top;\n",
       "    }\n",
       "\n",
       "    .dataframe thead th {\n",
       "        text-align: right;\n",
       "    }\n",
       "</style>\n",
       "<table border=\"1\" class=\"dataframe\">\n",
       "  <thead>\n",
       "    <tr style=\"text-align: right;\">\n",
       "      <th></th>\n",
       "      <th>species</th>\n",
       "      <th>island</th>\n",
       "      <th>bill_length_mm</th>\n",
       "      <th>bill_depth_mm</th>\n",
       "      <th>flipper_length_mm</th>\n",
       "      <th>body_mass_g</th>\n",
       "      <th>gender</th>\n",
       "      <th>year</th>\n",
       "    </tr>\n",
       "  </thead>\n",
       "  <tbody>\n",
       "    <tr>\n",
       "      <th>0</th>\n",
       "      <td>Adelie</td>\n",
       "      <td>Torgersen</td>\n",
       "      <td>39.1</td>\n",
       "      <td>18.7</td>\n",
       "      <td>181.0</td>\n",
       "      <td>3750.0</td>\n",
       "      <td>male</td>\n",
       "      <td>2007</td>\n",
       "    </tr>\n",
       "    <tr>\n",
       "      <th>1</th>\n",
       "      <td>Adelie</td>\n",
       "      <td>Torgersen</td>\n",
       "      <td>39.5</td>\n",
       "      <td>17.4</td>\n",
       "      <td>186.0</td>\n",
       "      <td>3800.0</td>\n",
       "      <td>female</td>\n",
       "      <td>2007</td>\n",
       "    </tr>\n",
       "    <tr>\n",
       "      <th>2</th>\n",
       "      <td>Adelie</td>\n",
       "      <td>Torgersen</td>\n",
       "      <td>40.3</td>\n",
       "      <td>18.0</td>\n",
       "      <td>195.0</td>\n",
       "      <td>3250.0</td>\n",
       "      <td>female</td>\n",
       "      <td>2007</td>\n",
       "    </tr>\n",
       "    <tr>\n",
       "      <th>3</th>\n",
       "      <td>Adelie</td>\n",
       "      <td>Torgersen</td>\n",
       "      <td>NaN</td>\n",
       "      <td>NaN</td>\n",
       "      <td>NaN</td>\n",
       "      <td>NaN</td>\n",
       "      <td>NaN</td>\n",
       "      <td>2007</td>\n",
       "    </tr>\n",
       "    <tr>\n",
       "      <th>4</th>\n",
       "      <td>Adelie</td>\n",
       "      <td>Torgersen</td>\n",
       "      <td>36.7</td>\n",
       "      <td>19.3</td>\n",
       "      <td>193.0</td>\n",
       "      <td>3450.0</td>\n",
       "      <td>female</td>\n",
       "      <td>2007</td>\n",
       "    </tr>\n",
       "  </tbody>\n",
       "</table>\n",
       "</div>"
      ],
      "text/plain": [
       "  species     island  bill_length_mm  bill_depth_mm  flipper_length_mm  \\\n",
       "0  Adelie  Torgersen            39.1           18.7              181.0   \n",
       "1  Adelie  Torgersen            39.5           17.4              186.0   \n",
       "2  Adelie  Torgersen            40.3           18.0              195.0   \n",
       "3  Adelie  Torgersen             NaN            NaN                NaN   \n",
       "4  Adelie  Torgersen            36.7           19.3              193.0   \n",
       "\n",
       "   body_mass_g  gender  year  \n",
       "0       3750.0    male  2007  \n",
       "1       3800.0  female  2007  \n",
       "2       3250.0  female  2007  \n",
       "3          NaN     NaN  2007  \n",
       "4       3450.0  female  2007  "
      ]
     },
     "execution_count": 3,
     "metadata": {},
     "output_type": "execute_result"
    }
   ],
   "source": [
    "df.head()"
   ]
  },
  {
   "cell_type": "markdown",
   "id": "38b05791-c0f0-4e79-bf92-58662aa11222",
   "metadata": {},
   "source": [
    "To do:\n",
    "- Print the descriptive statistics of the dataset."
   ]
  },
  {
   "cell_type": "code",
   "execution_count": 4,
   "id": "405aa3c1-3811-45fc-ae72-0414b0cc8381",
   "metadata": {},
   "outputs": [
    {
     "data": {
      "text/html": [
       "<div>\n",
       "<style scoped>\n",
       "    .dataframe tbody tr th:only-of-type {\n",
       "        vertical-align: middle;\n",
       "    }\n",
       "\n",
       "    .dataframe tbody tr th {\n",
       "        vertical-align: top;\n",
       "    }\n",
       "\n",
       "    .dataframe thead th {\n",
       "        text-align: right;\n",
       "    }\n",
       "</style>\n",
       "<table border=\"1\" class=\"dataframe\">\n",
       "  <thead>\n",
       "    <tr style=\"text-align: right;\">\n",
       "      <th></th>\n",
       "      <th>bill_length_mm</th>\n",
       "      <th>bill_depth_mm</th>\n",
       "      <th>flipper_length_mm</th>\n",
       "      <th>body_mass_g</th>\n",
       "      <th>year</th>\n",
       "    </tr>\n",
       "  </thead>\n",
       "  <tbody>\n",
       "    <tr>\n",
       "      <th>count</th>\n",
       "      <td>342.000000</td>\n",
       "      <td>342.000000</td>\n",
       "      <td>342.000000</td>\n",
       "      <td>342.000000</td>\n",
       "      <td>344.000000</td>\n",
       "    </tr>\n",
       "    <tr>\n",
       "      <th>mean</th>\n",
       "      <td>43.921930</td>\n",
       "      <td>17.151170</td>\n",
       "      <td>200.915205</td>\n",
       "      <td>4201.754386</td>\n",
       "      <td>2008.029070</td>\n",
       "    </tr>\n",
       "    <tr>\n",
       "      <th>std</th>\n",
       "      <td>5.459584</td>\n",
       "      <td>1.974793</td>\n",
       "      <td>14.061714</td>\n",
       "      <td>801.954536</td>\n",
       "      <td>0.818356</td>\n",
       "    </tr>\n",
       "    <tr>\n",
       "      <th>min</th>\n",
       "      <td>32.100000</td>\n",
       "      <td>13.100000</td>\n",
       "      <td>172.000000</td>\n",
       "      <td>2700.000000</td>\n",
       "      <td>2007.000000</td>\n",
       "    </tr>\n",
       "    <tr>\n",
       "      <th>25%</th>\n",
       "      <td>39.225000</td>\n",
       "      <td>15.600000</td>\n",
       "      <td>190.000000</td>\n",
       "      <td>3550.000000</td>\n",
       "      <td>2007.000000</td>\n",
       "    </tr>\n",
       "    <tr>\n",
       "      <th>50%</th>\n",
       "      <td>44.450000</td>\n",
       "      <td>17.300000</td>\n",
       "      <td>197.000000</td>\n",
       "      <td>4050.000000</td>\n",
       "      <td>2008.000000</td>\n",
       "    </tr>\n",
       "    <tr>\n",
       "      <th>75%</th>\n",
       "      <td>48.500000</td>\n",
       "      <td>18.700000</td>\n",
       "      <td>213.000000</td>\n",
       "      <td>4750.000000</td>\n",
       "      <td>2009.000000</td>\n",
       "    </tr>\n",
       "    <tr>\n",
       "      <th>max</th>\n",
       "      <td>59.600000</td>\n",
       "      <td>21.500000</td>\n",
       "      <td>231.000000</td>\n",
       "      <td>6300.000000</td>\n",
       "      <td>2009.000000</td>\n",
       "    </tr>\n",
       "  </tbody>\n",
       "</table>\n",
       "</div>"
      ],
      "text/plain": [
       "       bill_length_mm  bill_depth_mm  flipper_length_mm  body_mass_g  \\\n",
       "count      342.000000     342.000000         342.000000   342.000000   \n",
       "mean        43.921930      17.151170         200.915205  4201.754386   \n",
       "std          5.459584       1.974793          14.061714   801.954536   \n",
       "min         32.100000      13.100000         172.000000  2700.000000   \n",
       "25%         39.225000      15.600000         190.000000  3550.000000   \n",
       "50%         44.450000      17.300000         197.000000  4050.000000   \n",
       "75%         48.500000      18.700000         213.000000  4750.000000   \n",
       "max         59.600000      21.500000         231.000000  6300.000000   \n",
       "\n",
       "              year  \n",
       "count   344.000000  \n",
       "mean   2008.029070  \n",
       "std       0.818356  \n",
       "min    2007.000000  \n",
       "25%    2007.000000  \n",
       "50%    2008.000000  \n",
       "75%    2009.000000  \n",
       "max    2009.000000  "
      ]
     },
     "execution_count": 4,
     "metadata": {},
     "output_type": "execute_result"
    }
   ],
   "source": [
    "df.describe()"
   ]
  },
  {
   "cell_type": "markdown",
   "id": "11381b73-35e1-4bdc-b502-0830f93d50ea",
   "metadata": {},
   "source": [
    "To do:\n",
    "- Plot the boxplot for \"bill_length_mm\", \"bill_depth_mm\", \"flipper_length_mm\", \"body_mass_g\""
   ]
  },
  {
   "cell_type": "code",
   "execution_count": 5,
   "id": "ef50b305-93e6-41df-8e93-ca505d187576",
   "metadata": {},
   "outputs": [
    {
     "data": {
      "image/png": "[encoded data removed]",
      "text/plain": [
       "<Figure size 640x480 with 1 Axes>"
      ]
     },
     "metadata": {},
     "output_type": "display_data"
    }
   ],
   "source": [
    "df.boxplot(column=[\"bill_length_mm\", \"bill_depth_mm\", \"flipper_length_mm\", \"body_mass_g\"])\n",
    "plt.show()"
   ]
  },
  {
   "cell_type": "markdown",
   "id": "f1c8abc1-fe60-4323-911e-f1034f4e25b0",
   "metadata": {},
   "source": [
    "To do:\n",
    "- Check the class breakdown (number of data samples per class)"
   ]
  },
  {
   "cell_type": "code",
   "execution_count": 6,
   "id": "5ac4e351-64b7-4ac4-9495-8842f668ed5a",
   "metadata": {},
   "outputs": [
    {
     "data": {
      "text/plain": [
       "species\n",
       "Adelie       152\n",
       "Chinstrap     68\n",
       "Gentoo       124\n",
       "dtype: int64"
      ]
     },
     "execution_count": 6,
     "metadata": {},
     "output_type": "execute_result"
    }
   ],
   "source": [
    "df.groupby(\"species\").size()"
   ]
  },
  {
   "cell_type": "markdown",
   "id": "371dc9ae-2cc5-47eb-82da-a3082c53093a",
   "metadata": {},
   "source": [
    "To do:\n",
    "- Check the number of missing values in each column."
   ]
  },
  {
   "cell_type": "code",
   "execution_count": 7,
   "id": "03dccc6e-92f1-4830-ad86-b7d6873bc298",
   "metadata": {},
   "outputs": [
    {
     "data": {
      "text/plain": [
       "species               0\n",
       "island                0\n",
       "bill_length_mm        2\n",
       "bill_depth_mm         2\n",
       "flipper_length_mm     2\n",
       "body_mass_g           2\n",
       "gender               11\n",
       "year                  0\n",
       "dtype: int64"
      ]
     },
     "execution_count": 7,
     "metadata": {},
     "output_type": "execute_result"
    }
   ],
   "source": [
    "df.isna().sum()"
   ]
  },
  {
   "cell_type": "markdown",
   "id": "df14cf44-4478-497d-a48c-e94be088a836",
   "metadata": {},
   "source": [
    "To do:\n",
    "- If there are  missing values, impute them using statistics (median, mean, mode)."
   ]
  },
  {
   "cell_type": "code",
   "execution_count": 8,
   "id": "a44b7c0b-2fbf-468f-89cd-3c854cd5c158",
   "metadata": {},
   "outputs": [
    {
     "data": {
      "text/plain": [
       "species              0\n",
       "island               0\n",
       "bill_length_mm       0\n",
       "bill_depth_mm        0\n",
       "flipper_length_mm    0\n",
       "body_mass_g          0\n",
       "gender               0\n",
       "year                 0\n",
       "dtype: int64"
      ]
     },
     "execution_count": 8,
     "metadata": {},
     "output_type": "execute_result"
    }
   ],
   "source": [
    "df[\"bill_length_mm\"] = df[\"bill_length_mm\"].fillna(df[\"bill_length_mm\"].mean())\n",
    "df[\"bill_depth_mm\"] = df[\"bill_depth_mm\"].fillna(df[\"bill_depth_mm\"].mean())\n",
    "df[\"flipper_length_mm\"] = df[\"flipper_length_mm\"].fillna(df[\"flipper_length_mm\"].mean())\n",
    "df[\"body_mass_g\"] = df[\"body_mass_g\"].fillna(df[\"body_mass_g\"].mean())\n",
    "df[\"gender\"] = df[\"gender\"].fillna(df[\"gender\"].mode()[0])\n",
    "\n",
    "df.isna().sum()"
   ]
  },
  {
   "cell_type": "markdown",
   "id": "062f4dea-bcd9-427c-acb4-0e3bcec39755",
   "metadata": {},
   "source": [
    "To do:\n",
    "- Perform categorical encoding"
   ]
  },
  {
   "cell_type": "code",
   "execution_count": 9,
   "id": "68a4ffdb-78da-47b2-98ea-961a2f02426d",
   "metadata": {},
   "outputs": [
    {
     "data": {
      "text/html": [
       "<div>\n",
       "<style scoped>\n",
       "    .dataframe tbody tr th:only-of-type {\n",
       "        vertical-align: middle;\n",
       "    }\n",
       "\n",
       "    .dataframe tbody tr th {\n",
       "        vertical-align: top;\n",
       "    }\n",
       "\n",
       "    .dataframe thead th {\n",
       "        text-align: right;\n",
       "    }\n",
       "</style>\n",
       "<table border=\"1\" class=\"dataframe\">\n",
       "  <thead>\n",
       "    <tr style=\"text-align: right;\">\n",
       "      <th></th>\n",
       "      <th>species</th>\n",
       "      <th>bill_length_mm</th>\n",
       "      <th>bill_depth_mm</th>\n",
       "      <th>flipper_length_mm</th>\n",
       "      <th>body_mass_g</th>\n",
       "      <th>year</th>\n",
       "      <th>island_Biscoe</th>\n",
       "      <th>island_Dream</th>\n",
       "      <th>island_Torgersen</th>\n",
       "      <th>gender_female</th>\n",
       "      <th>gender_male</th>\n",
       "    </tr>\n",
       "  </thead>\n",
       "  <tbody>\n",
       "    <tr>\n",
       "      <th>0</th>\n",
       "      <td>Adelie</td>\n",
       "      <td>39.10000</td>\n",
       "      <td>18.70000</td>\n",
       "      <td>181.000000</td>\n",
       "      <td>3750.000000</td>\n",
       "      <td>2007</td>\n",
       "      <td>False</td>\n",
       "      <td>False</td>\n",
       "      <td>True</td>\n",
       "      <td>False</td>\n",
       "      <td>True</td>\n",
       "    </tr>\n",
       "    <tr>\n",
       "      <th>1</th>\n",
       "      <td>Adelie</td>\n",
       "      <td>39.50000</td>\n",
       "      <td>17.40000</td>\n",
       "      <td>186.000000</td>\n",
       "      <td>3800.000000</td>\n",
       "      <td>2007</td>\n",
       "      <td>False</td>\n",
       "      <td>False</td>\n",
       "      <td>True</td>\n",
       "      <td>True</td>\n",
       "      <td>False</td>\n",
       "    </tr>\n",
       "    <tr>\n",
       "      <th>2</th>\n",
       "      <td>Adelie</td>\n",
       "      <td>40.30000</td>\n",
       "      <td>18.00000</td>\n",
       "      <td>195.000000</td>\n",
       "      <td>3250.000000</td>\n",
       "      <td>2007</td>\n",
       "      <td>False</td>\n",
       "      <td>False</td>\n",
       "      <td>True</td>\n",
       "      <td>True</td>\n",
       "      <td>False</td>\n",
       "    </tr>\n",
       "    <tr>\n",
       "      <th>3</th>\n",
       "      <td>Adelie</td>\n",
       "      <td>43.92193</td>\n",
       "      <td>17.15117</td>\n",
       "      <td>200.915205</td>\n",
       "      <td>4201.754386</td>\n",
       "      <td>2007</td>\n",
       "      <td>False</td>\n",
       "      <td>False</td>\n",
       "      <td>True</td>\n",
       "      <td>False</td>\n",
       "      <td>True</td>\n",
       "    </tr>\n",
       "    <tr>\n",
       "      <th>4</th>\n",
       "      <td>Adelie</td>\n",
       "      <td>36.70000</td>\n",
       "      <td>19.30000</td>\n",
       "      <td>193.000000</td>\n",
       "      <td>3450.000000</td>\n",
       "      <td>2007</td>\n",
       "      <td>False</td>\n",
       "      <td>False</td>\n",
       "      <td>True</td>\n",
       "      <td>True</td>\n",
       "      <td>False</td>\n",
       "    </tr>\n",
       "  </tbody>\n",
       "</table>\n",
       "</div>"
      ],
      "text/plain": [
       "  species  bill_length_mm  bill_depth_mm  flipper_length_mm  body_mass_g  \\\n",
       "0  Adelie        39.10000       18.70000         181.000000  3750.000000   \n",
       "1  Adelie        39.50000       17.40000         186.000000  3800.000000   \n",
       "2  Adelie        40.30000       18.00000         195.000000  3250.000000   \n",
       "3  Adelie        43.92193       17.15117         200.915205  4201.754386   \n",
       "4  Adelie        36.70000       19.30000         193.000000  3450.000000   \n",
       "\n",
       "   year  island_Biscoe  island_Dream  island_Torgersen  gender_female  \\\n",
       "0  2007          False         False              True          False   \n",
       "1  2007          False         False              True           True   \n",
       "2  2007          False         False              True           True   \n",
       "3  2007          False         False              True          False   \n",
       "4  2007          False         False              True           True   \n",
       "\n",
       "   gender_male  \n",
       "0         True  \n",
       "1        False  \n",
       "2        False  \n",
       "3         True  \n",
       "4        False  "
      ]
     },
     "execution_count": 9,
     "metadata": {},
     "output_type": "execute_result"
    }
   ],
   "source": [
    "df2 = pd.get_dummies(df, columns=[\"island\", \"gender\"])\n",
    "df2.head()"
   ]
  },
  {
   "cell_type": "markdown",
   "id": "b12e2325-1473-4658-ba4c-a83e3395d0db",
   "metadata": {},
   "source": [
    "To do:\n",
    "- Separate into featues (X) and target (y)"
   ]
  },
  {
   "cell_type": "code",
   "execution_count": 10,
   "id": "ab726c32-2ba8-403c-a4c5-7d7aa9bc9f1f",
   "metadata": {},
   "outputs": [],
   "source": [
    "X = df2.drop(columns=[\"species\", \"year\", \"gender_male\"])\n",
    "y = df2[\"species\"]"
   ]
  },
  {
   "cell_type": "markdown",
   "id": "479ee976-9196-4cb5-8de5-60bd78e51c10",
   "metadata": {},
   "source": [
    "To do:\n",
    "- Split into training (75%) and testing (25%) sets."
   ]
  },
  {
   "cell_type": "code",
   "execution_count": 11,
   "id": "34540674-5f5b-4f76-9415-e2dae7400e6e",
   "metadata": {},
   "outputs": [],
   "source": [
    "X_train, X_test, y_train, y_test = split(X, y, train_size=0.75, stratify=y, random_state=42)"
   ]
  },
  {
   "cell_type": "markdown",
   "id": "48a677b8-b2d3-4fed-a45b-146b0839524a",
   "metadata": {},
   "source": [
    "To do:\n",
    "- Use spotchecking technique to evaluate the performance of kNN, logistic regression, Gaussian naive bayes, support vector machine, decision tree, random forest, gradient boosting trees and MLP classifiers.\n",
    "- Use stratified k-folds cross-validation with 5 folds."
   ]
  },
  {
   "cell_type": "code",
   "execution_count": 12,
   "id": "2fd98dbf-17ba-4837-994e-e8a054e8744e",
   "metadata": {},
   "outputs": [
    {
     "name": "stdout",
     "output_type": "stream",
     "text": [
      "knn: 73.620%, 4.323%\n",
      "lgr: 98.439%, 1.465%\n",
      "svc: 71.282%, 5.173%\n",
      "dtc: 97.285%, 1.967%\n",
      "rfc: 98.839%, 1.542%\n",
      "gbc: 97.293%, 2.884%\n",
      "gnb: 83.703%, 3.245%\n",
      "mpc: 48.492%, 23.668%\n"
     ]
    }
   ],
   "source": [
    "from sklearn.naive_bayes import GaussianNB\n",
    "\n",
    "models = {}\n",
    "models['knn'] = KNeighborsClassifier()\n",
    "models['lgr'] = LogisticRegression()\n",
    "models['svc'] = SVC()\n",
    "models['dtc'] = DecisionTreeClassifier()\n",
    "models['rfc'] = RandomForestClassifier()\n",
    "models['gbc'] = GradientBoostingClassifier()\n",
    "models['gnb'] = GaussianNB()\n",
    "models['mpc'] = MLPClassifier()\n",
    "\n",
    "skf = StratifiedKFold(n_splits=5, shuffle=True, random_state=42)\n",
    "for m in models:\n",
    "    scores = cross_val_score(models[m], X_train, y_train, cv=skf, n_jobs=-1)\n",
    "    print(f\"{m}: {scores.mean():.3%}, {scores.std():.3%}\")"
   ]
  },
  {
   "cell_type": "markdown",
   "id": "30d501e3-675f-4611-87bd-b55e1f120f78",
   "metadata": {},
   "source": [
    "To:\n",
    "- Apply Min-max scaling to the features"
   ]
  },
  {
   "cell_type": "code",
   "execution_count": 13,
   "id": "8ada4e63-44d3-428c-ace0-8fd4631b6f59",
   "metadata": {},
   "outputs": [],
   "source": [
    "scl = MinMaxScaler()\n",
    "Xs_train = scl.fit_transform(X_train)\n",
    "Xs_test = scl.transform(X_test)"
   ]
  },
  {
   "cell_type": "markdown",
   "id": "81c9b73f-f5dc-4779-9243-e90f3578051d",
   "metadata": {},
   "source": [
    "To do:\n",
    "- Use spotchecking technique to evaluate the performance of kNN, logistic regression, Gaussian naive bayes, support vector machine, decision tree, random forest, gradient boosting trees and MLP classifiers on the scaled features.\n",
    "- Use stratified k-folds cross-validation with 5 folds."
   ]
  },
  {
   "cell_type": "code",
   "execution_count": 14,
   "id": "1f6d9508-d2b0-4ef9-aa87-a1cd0ddf9867",
   "metadata": {},
   "outputs": [
    {
     "name": "stdout",
     "output_type": "stream",
     "text": [
      "knn: 98.446%, 0.777%\n",
      "lgr: 98.454%, 1.441%\n",
      "svc: 98.839%, 0.948%\n",
      "dtc: 96.116%, 2.128%\n",
      "rfc: 98.454%, 1.441%\n",
      "gbc: 96.908%, 2.613%\n",
      "gnb: 72.089%, 2.663%\n",
      "mpc: 98.062%, 1.216%\n"
     ]
    }
   ],
   "source": [
    "for m in models:\n",
    "    scores = cross_val_score(models[m], Xs_train, y_train, cv=skf, n_jobs=-1)\n",
    "    print(f\"{m}: {scores.mean():.3%}, {scores.std():.3%}\")"
   ]
  },
  {
   "cell_type": "markdown",
   "id": "ff115fd3-287d-4619-ac14-f36aeaf788ef",
   "metadata": {},
   "source": [
    "To do:\n",
    "- Choose the best performing model\n",
    "- Train the model using the training set and evaluate its performance using the test set"
   ]
  },
  {
   "cell_type": "code",
   "execution_count": 15,
   "id": "4739f2ed-3934-49f5-adbe-a1db8f99277e",
   "metadata": {},
   "outputs": [
    {
     "name": "stdout",
     "output_type": "stream",
     "text": [
      "SVC accuracy: 100.000%\n"
     ]
    }
   ],
   "source": [
    "model = SVC().fit(Xs_train, y_train)\n",
    "print(f\"SVC accuracy: {model.score(Xs_test, y_test):.3%}\")"
   ]
  },
  {
   "cell_type": "markdown",
   "id": "4ef3d714-88f1-4857-b1bd-25d0ebcd7a17",
   "metadata": {},
   "source": [
    "To do:\n",
    "- Print the classification report\n",
    "- Plot the confusion matrix"
   ]
  },
  {
   "cell_type": "code",
   "execution_count": 16,
   "id": "849989cf-d1d6-49bb-971e-2eeb1609e49c",
   "metadata": {},
   "outputs": [
    {
     "name": "stdout",
     "output_type": "stream",
     "text": [
      "              precision    recall  f1-score   support\n",
      "\n",
      "      Adelie       1.00      1.00      1.00        38\n",
      "   Chinstrap       1.00      1.00      1.00        17\n",
      "      Gentoo       1.00      1.00      1.00        31\n",
      "\n",
      "    accuracy                           1.00        86\n",
      "   macro avg       1.00      1.00      1.00        86\n",
      "weighted avg       1.00      1.00      1.00        86\n",
      "\n"
     ]
    },
    {
     "data": {
      "image/png": "[encoded data removed]",
      "text/plain": [
       "<Figure size 640x480 with 2 Axes>"
      ]
     },
     "metadata": {},
     "output_type": "display_data"
    }
   ],
   "source": [
    "report = classification_report(y_test, model.predict(Xs_test))\n",
    "print(report)\n",
    "\n",
    "ConfusionMatrixDisplay.from_estimator(model, Xs_test, y_test)\n",
    "plt.show()"
   ]
  },
  {
   "cell_type": "code",
   "execution_count": null,
   "id": "6f10e7b0-29e2-410e-8a48-29b4266a0c54",
   "metadata": {},
   "outputs": [],
   "source": []
  }
 ],
 "metadata": {
  "kernelspec": {
   "display_name": "Python 3 (ipykernel)",
   "language": "python",
   "name": "python3"
  },
  "language_info": {
   "codemirror_mode": {
    "name": "ipython",
    "version": 3
   },
   "file_extension": ".py",
   "mimetype": "text/x-python",
   "name": "python",
   "nbconvert_exporter": "python",
   "pygments_lexer": "ipython3",
   "version": "3.12.4"
  }
 },
 "nbformat": 4,
 "nbformat_minor": 5
}
