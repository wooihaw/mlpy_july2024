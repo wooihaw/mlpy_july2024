{
 "cells": [
  {
   "cell_type": "code",
   "execution_count": 1,
   "id": "c9fe7cae-29e4-4355-92aa-0080d734ab95",
   "metadata": {},
   "outputs": [],
   "source": [
    "# Intitializatio\n",
    "%matplotlib inline\n",
    "from warnings import filterwarnings\n",
    "filterwarnings(\"ignore\")"
   ]
  },
  {
   "cell_type": "code",
   "execution_count": 3,
   "id": "62f5eef3-268c-486f-b13a-8311d575fd52",
   "metadata": {},
   "outputs": [
    {
     "name": "stdout",
     "output_type": "stream",
     "text": [
      "minimum=[0. 0. 0. 0. 0. 0. 0. 0.], maximum=[1. 1. 1. 1. 1. 1. 1. 1.]\n"
     ]
    }
   ],
   "source": [
    "# %load ml11.py\n",
    "# Scale data (between 0 and 1)\n",
    "import numpy as np\n",
    "from pandas import read_csv\n",
    "from sklearn.preprocessing import MinMaxScaler\n",
    "header = ['preg', 'plas', 'pres', 'skin', 'test', 'mass', 'pedi', 'age', 'class']\n",
    "df = read_csv('data/pima-indians-diabetes.data.csv', names=header)\n",
    "# Separate into features and target\n",
    "X = df.drop(columns=['class'])\n",
    "y = df['class']\n",
    "scaler = MinMaxScaler(feature_range=(0, 1))\n",
    "scaler.fit(X)\n",
    "scaledX = scaler.transform(X)\n",
    "# Check min and max of all column\n",
    "print(f'minimum={np.min(scaledX, axis=0)}, maximum={np.max(scaledX, axis=0)}')"
   ]
  },
  {
   "cell_type": "code",
   "execution_count": 5,
   "id": "81beec6e-97fc-49d2-9dd1-b1d5ab7d8c10",
   "metadata": {},
   "outputs": [
    {
     "name": "stdout",
     "output_type": "stream",
     "text": [
      "mean=[-6.47630098e-17 -9.25185854e-18  1.50342701e-17  1.00613962e-16\n",
      " -3.00685403e-17  2.59052039e-16  2.45174251e-16  1.93132547e-16], variance=[1. 1. 1. 1. 1. 1. 1. 1.]\n"
     ]
    }
   ],
   "source": [
    "# %load ml12.py\n",
    "# Standardize data (0 mean, 1 stdev)\n",
    "import numpy as np\n",
    "from sklearn.preprocessing import StandardScaler\n",
    "from pandas import read_csv\n",
    "header = ['preg', 'plas', 'pres', 'skin', 'test', 'mass', 'pedi', 'age', 'class']\n",
    "df = read_csv('data/pima-indians-diabetes.data.csv', names=header)\n",
    "# Separate into features and target\n",
    "X = df.drop(columns=['class'])\n",
    "y = df['class']\n",
    "scaler = StandardScaler()\n",
    "scaledX = scaler.fit_transform(X)\n",
    "# Check mean and standard deviation of all columns\n",
    "print(f'mean={np.mean(scaledX, axis=0)}, variance={np.var(scaledX, axis=0)}')\n"
   ]
  },
  {
   "cell_type": "code",
   "execution_count": 7,
   "id": "0b6804cb-e93d-46a3-906a-90616aa4718d",
   "metadata": {},
   "outputs": [
    {
     "name": "stdout",
     "output_type": "stream",
     "text": [
      "median=[0. 0. 0. 0. 0. 0. 0. 0.], IQR=[1. 1. 1. 1. 1. 1. 1. 1.]\n"
     ]
    }
   ],
   "source": [
    "# %load ml13.py\n",
    "# Robust scaling (0 median, 1 IQR)\n",
    "import numpy as np\n",
    "from sklearn.preprocessing import RobustScaler\n",
    "from pandas import read_csv\n",
    "header = ['preg', 'plas', 'pres', 'skin', 'test', 'mass', 'pedi', 'age', 'class']\n",
    "df = read_csv('data/pima-indians-diabetes.data.csv', names=header)\n",
    "# Separate into features and target\n",
    "X = df.drop(columns=['class'])\n",
    "y = df['class']\n",
    "scaler = RobustScaler()\n",
    "scaledX = scaler.fit_transform(X)\n",
    "# Check median and IQR of all columns\n",
    "q3, q1 = np.percentile(scaledX, [75 ,25], axis=0)\n",
    "print(f'median={np.median(scaledX, axis=0)}, IQR={q3-q1}')"
   ]
  },
  {
   "cell_type": "code",
   "execution_count": 8,
   "id": "3d52b6ca-275a-4f9f-bc45-ee822f47ff72",
   "metadata": {},
   "outputs": [
    {
     "data": {
      "text/html": [
       "<div>\n",
       "<style scoped>\n",
       "    .dataframe tbody tr th:only-of-type {\n",
       "        vertical-align: middle;\n",
       "    }\n",
       "\n",
       "    .dataframe tbody tr th {\n",
       "        vertical-align: top;\n",
       "    }\n",
       "\n",
       "    .dataframe thead th {\n",
       "        text-align: right;\n",
       "    }\n",
       "</style>\n",
       "<table border=\"1\" class=\"dataframe\">\n",
       "  <thead>\n",
       "    <tr style=\"text-align: right;\">\n",
       "      <th></th>\n",
       "      <th>feature1</th>\n",
       "      <th>feature2</th>\n",
       "      <th>label</th>\n",
       "    </tr>\n",
       "  </thead>\n",
       "  <tbody>\n",
       "    <tr>\n",
       "      <th>0</th>\n",
       "      <td>-4.083310</td>\n",
       "      <td>-10963.008707</td>\n",
       "      <td>0</td>\n",
       "    </tr>\n",
       "    <tr>\n",
       "      <th>1</th>\n",
       "      <td>0.751363</td>\n",
       "      <td>-7153.781270</td>\n",
       "      <td>1</td>\n",
       "    </tr>\n",
       "    <tr>\n",
       "      <th>2</th>\n",
       "      <td>5.706203</td>\n",
       "      <td>-7830.473386</td>\n",
       "      <td>1</td>\n",
       "    </tr>\n",
       "    <tr>\n",
       "      <th>3</th>\n",
       "      <td>-6.522791</td>\n",
       "      <td>-9145.506169</td>\n",
       "      <td>0</td>\n",
       "    </tr>\n",
       "    <tr>\n",
       "      <th>4</th>\n",
       "      <td>-7.362259</td>\n",
       "      <td>2846.910782</td>\n",
       "      <td>2</td>\n",
       "    </tr>\n",
       "  </tbody>\n",
       "</table>\n",
       "</div>"
      ],
      "text/plain": [
       "   feature1      feature2  label\n",
       "0 -4.083310 -10963.008707      0\n",
       "1  0.751363  -7153.781270      1\n",
       "2  5.706203  -7830.473386      1\n",
       "3 -6.522791  -9145.506169      0\n",
       "4 -7.362259   2846.910782      2"
      ]
     },
     "execution_count": 8,
     "metadata": {},
     "output_type": "execute_result"
    }
   ],
   "source": [
    "from pandas import read_csv\n",
    "import matplotlib.pyplot as plt\n",
    "from sklearn.model_selection import train_test_split as split\n",
    "from sklearn.neighbors import KNeighborsClassifier\n",
    "from sklearn.preprocessing import MinMaxScaler\n",
    "\n",
    "df = read_csv(\"data/rescale.csv\")\n",
    "df.head()"
   ]
  },
  {
   "cell_type": "code",
   "execution_count": 9,
   "id": "5396ebd0-ce40-4a5a-85ba-4ae47f6656f6",
   "metadata": {},
   "outputs": [
    {
     "data": {
      "text/html": [
       "<div>\n",
       "<style scoped>\n",
       "    .dataframe tbody tr th:only-of-type {\n",
       "        vertical-align: middle;\n",
       "    }\n",
       "\n",
       "    .dataframe tbody tr th {\n",
       "        vertical-align: top;\n",
       "    }\n",
       "\n",
       "    .dataframe thead th {\n",
       "        text-align: right;\n",
       "    }\n",
       "</style>\n",
       "<table border=\"1\" class=\"dataframe\">\n",
       "  <thead>\n",
       "    <tr style=\"text-align: right;\">\n",
       "      <th></th>\n",
       "      <th>feature1</th>\n",
       "      <th>feature2</th>\n",
       "      <th>label</th>\n",
       "    </tr>\n",
       "  </thead>\n",
       "  <tbody>\n",
       "    <tr>\n",
       "      <th>count</th>\n",
       "      <td>300.000000</td>\n",
       "      <td>300.000000</td>\n",
       "      <td>300.000000</td>\n",
       "    </tr>\n",
       "    <tr>\n",
       "      <th>mean</th>\n",
       "      <td>-3.112509</td>\n",
       "      <td>-5458.703355</td>\n",
       "      <td>1.000000</td>\n",
       "    </tr>\n",
       "    <tr>\n",
       "      <th>std</th>\n",
       "      <td>5.260577</td>\n",
       "      <td>5641.865215</td>\n",
       "      <td>0.817861</td>\n",
       "    </tr>\n",
       "    <tr>\n",
       "      <th>min</th>\n",
       "      <td>-14.482280</td>\n",
       "      <td>-14742.240961</td>\n",
       "      <td>0.000000</td>\n",
       "    </tr>\n",
       "    <tr>\n",
       "      <th>25%</th>\n",
       "      <td>-7.036305</td>\n",
       "      <td>-9750.407678</td>\n",
       "      <td>0.000000</td>\n",
       "    </tr>\n",
       "    <tr>\n",
       "      <th>50%</th>\n",
       "      <td>-4.439516</td>\n",
       "      <td>-7862.241840</td>\n",
       "      <td>1.000000</td>\n",
       "    </tr>\n",
       "    <tr>\n",
       "      <th>75%</th>\n",
       "      <td>1.833269</td>\n",
       "      <td>611.843991</td>\n",
       "      <td>2.000000</td>\n",
       "    </tr>\n",
       "    <tr>\n",
       "      <th>max</th>\n",
       "      <td>8.907468</td>\n",
       "      <td>6395.905063</td>\n",
       "      <td>2.000000</td>\n",
       "    </tr>\n",
       "  </tbody>\n",
       "</table>\n",
       "</div>"
      ],
      "text/plain": [
       "         feature1      feature2       label\n",
       "count  300.000000    300.000000  300.000000\n",
       "mean    -3.112509  -5458.703355    1.000000\n",
       "std      5.260577   5641.865215    0.817861\n",
       "min    -14.482280 -14742.240961    0.000000\n",
       "25%     -7.036305  -9750.407678    0.000000\n",
       "50%     -4.439516  -7862.241840    1.000000\n",
       "75%      1.833269    611.843991    2.000000\n",
       "max      8.907468   6395.905063    2.000000"
      ]
     },
     "execution_count": 9,
     "metadata": {},
     "output_type": "execute_result"
    }
   ],
   "source": [
    "df.describe()"
   ]
  },
  {
   "cell_type": "code",
   "execution_count": 10,
   "id": "9a1f146f-3b4f-4739-9bb4-6fbb52aba894",
   "metadata": {},
   "outputs": [
    {
     "data": {
      "text/plain": [
       "label\n",
       "0    100\n",
       "1    100\n",
       "2    100\n",
       "dtype: int64"
      ]
     },
     "execution_count": 10,
     "metadata": {},
     "output_type": "execute_result"
    }
   ],
   "source": [
    "df.groupby(\"label\").size()"
   ]
  },
  {
   "cell_type": "code",
   "execution_count": 12,
   "id": "4029576a-787e-41c5-bfa5-3a81dd018e92",
   "metadata": {},
   "outputs": [
    {
     "name": "stdout",
     "output_type": "stream",
     "text": [
      "knn1 accuracy: 69.333%\n"
     ]
    }
   ],
   "source": [
    "X = df.drop(columns=[\"label\"])\n",
    "y = df[\"label\"]\n",
    "X_train, X_test, y_train, y_test = split(X, y, stratify=y, test_size=0.25, random_state=42)\n",
    "\n",
    "knn1 = KNeighborsClassifier().fit(X_train, y_train)\n",
    "print(f\"knn1 accuracy: {knn1.score(X_test, y_test):.3%}\")"
   ]
  },
  {
   "cell_type": "code",
   "execution_count": 13,
   "id": "f22cdd1d-3046-4788-80ce-0ae9f6d37e5c",
   "metadata": {},
   "outputs": [
    {
     "name": "stdout",
     "output_type": "stream",
     "text": [
      "knn2 accuracy: 100.000%\n"
     ]
    }
   ],
   "source": [
    "scl = MinMaxScaler()\n",
    "Xs_train = scl.fit_transform(X_train)\n",
    "Xs_test = scl.transform(X_test)\n",
    "\n",
    "knn2 = KNeighborsClassifier().fit(Xs_train, y_train)\n",
    "print(f\"knn2 accuracy: {knn2.score(Xs_test, y_test):.3%}\")"
   ]
  },
  {
   "cell_type": "code",
   "execution_count": 15,
   "id": "24543355-2811-42ac-8a43-a31373f52d0a",
   "metadata": {},
   "outputs": [
    {
     "name": "stdout",
     "output_type": "stream",
     "text": [
      "   preg  plas  pres  skin  test  mass   pedi  age  class new_feature1  \\\n",
      "0     6   148    72    35     0  33.6  0.627   50      1  Middle-aged   \n",
      "1     1    85    66    29     0  26.6  0.351   31      0  Middle-aged   \n",
      "2     8   183    64     0     0  23.3  0.672   32      1  Middle-aged   \n",
      "3     1    89    66    23    94  28.1  0.167   21      0        Young   \n",
      "4     0   137    40    35   168  43.1  2.288   33      1  Middle-aged   \n",
      "\n",
      "   new_feature2  \n",
      "0           NaN  \n",
      "1           NaN  \n",
      "2     27.833333  \n",
      "3     26.000000  \n",
      "4     31.500000  \n"
     ]
    }
   ],
   "source": [
    "# %load ml14.py\n",
    "# Create 2 new features\n",
    "import pandas as pd\n",
    "header = ['preg', 'plas', 'pres', 'skin', 'test', 'mass', 'pedi', 'age', 'class']\n",
    "df = pd.read_csv('data/pima-indians-diabetes.data.csv', names=header)\n",
    "bins = [0, 30, 50, 100] \n",
    "labels = ['Young', 'Middle-aged', 'Senior']\n",
    "df['new_feature1'] = pd.cut(df['age'], bins=bins, labels=labels)\n",
    "df['new_feature2'] = df['mass'].rolling(window=3).mean()\n",
    "print(df.head())\n"
   ]
  },
  {
   "cell_type": "code",
   "execution_count": 17,
   "id": "39e8ea28-0611-474d-86df-6b0202ed24b2",
   "metadata": {},
   "outputs": [
    {
     "name": "stdout",
     "output_type": "stream",
     "text": [
      "['preg', 'plas', 'mass', 'age']\n"
     ]
    }
   ],
   "source": [
    "# %load ml15.py\n",
    "# Feature Selection with Univariate Selection\n",
    "from pandas import read_csv\n",
    "from sklearn.feature_selection import SelectKBest\n",
    "# load data\n",
    "header = ['preg', 'plas', 'pres', 'skin', 'test', 'mass', 'pedi', 'age', 'class']\n",
    "df = read_csv('data/pima-indians-diabetes.data.csv', names=header)\n",
    "X = df.drop(columns=['class'])\n",
    "y = df['class']\n",
    "selector = SelectKBest(k=4)\n",
    "features = selector.fit_transform(X, y)\n",
    "selected = selector.get_support()\n",
    "# Show selected features\n",
    "print([header[i] for i, j in enumerate(selected) if j])\n"
   ]
  },
  {
   "cell_type": "code",
   "execution_count": 19,
   "id": "5ddfb49b-f39c-4159-aacf-091e891a41d5",
   "metadata": {},
   "outputs": [
    {
     "name": "stdout",
     "output_type": "stream",
     "text": [
      "['plas', 'mass', 'pedi', 'age']\n"
     ]
    }
   ],
   "source": [
    "# %load ml16.py\n",
    "# Model-based Feature Selection with Random Forest\n",
    "from pandas import read_csv\n",
    "from sklearn.ensemble import RandomForestClassifier\n",
    "from sklearn.feature_selection import SelectFromModel\n",
    "names = ['preg', 'plas', 'pres', 'skin', 'test', 'mass', 'pedi', 'age', 'class']\n",
    "df = read_csv('data/pima-indians-diabetes.data.csv', names=names)\n",
    "array = df.values\n",
    "X = array[:, :-1]\n",
    "y = array[:, -1]\n",
    "selector = SelectFromModel(RandomForestClassifier(), threshold='median')\n",
    "features = selector.fit_transform(X, y)\n",
    "selected = selector.get_support()\n",
    "# Show selected features\n",
    "print([names[i] for i in range(len(names)-1) if selected[i]])\n"
   ]
  },
  {
   "cell_type": "code",
   "execution_count": 21,
   "id": "f73264cd-daa4-4523-9b9f-c2d4ebef3cfe",
   "metadata": {},
   "outputs": [
    {
     "name": "stdout",
     "output_type": "stream",
     "text": [
      "['plas', 'pres', 'mass', 'pedi']\n"
     ]
    }
   ],
   "source": [
    "# %load ml17.py\n",
    "# Feature Selection with RFE\n",
    "from pandas import read_csv\n",
    "from sklearn.feature_selection import RFE\n",
    "from sklearn.tree import DecisionTreeClassifier\n",
    "header = ['preg', 'plas', 'pres', 'skin', 'test', 'mass', 'pedi', 'age', 'class']\n",
    "df = read_csv('data/pima-indians-diabetes.data.csv', names=header)\n",
    "X = df.drop(columns=['class'])\n",
    "y = df['class']\n",
    "model = DecisionTreeClassifier()\n",
    "rfe = RFE(model, n_features_to_select=4)\n",
    "features = rfe.fit_transform(X, y)\n",
    "selected = rfe.get_support()\n",
    "# Show selected features\n",
    "print([header[i] for i, j in enumerate(selected) if j])\n"
   ]
  },
  {
   "cell_type": "code",
   "execution_count": 22,
   "id": "dd164164-8649-4405-8f8a-6f6a84c8062e",
   "metadata": {},
   "outputs": [
    {
     "data": {
      "text/plain": [
       "(569, 30)"
      ]
     },
     "execution_count": 22,
     "metadata": {},
     "output_type": "execute_result"
    }
   ],
   "source": [
    "from sklearn.datasets import load_breast_cancer\n",
    "from sklearn.model_selection import train_test_split as split\n",
    "from sklearn.feature_selection import RFE\n",
    "from sklearn.tree import DecisionTreeClassifier\n",
    "\n",
    "X, y = load_breast_cancer(return_X_y=True)\n",
    "X.shape"
   ]
  },
  {
   "cell_type": "code",
   "execution_count": null,
   "id": "2bf5743d-a828-4864-a4fd-cbf5a53551ae",
   "metadata": {},
   "outputs": [],
   "source": [
    "X_train, X_test, y_train, y_test = split(X, y, stratify=y, train_size=0.75, random_state=42)\n",
    "\n",
    "dtc1 = DecisionTreeClassifier(random_state=42).fit(X_train, y_train)\n",
    "print(f\"dtc1 accuracy: {dtc1.score(X_test, y_test):.3%}\")\n",
    "\n",
    "# Use RFE for feature selection\n",
    "rfe = RFE(DecisionTreeClassifier(), n_features_to_select=10)\n",
    "Xf_train = rfe.fit_transform(X_train, y_train)\n",
    "Xf_test = rfe.transform(X_test)\n",
    "\n",
    "dtc2 = DecisionTreeClassifier(random_state=42).fit(Xf_train, y_train)\n",
    "print(f\"dtc2 accuracy: {dtc2.score(Xf_test, y_test):.3%}\")"
   ]
  },
  {
   "cell_type": "code",
   "execution_count": 27,
   "id": "7ba87ddb-ca05-4531-89a2-e6da7f3ed022",
   "metadata": {},
   "outputs": [
    {
     "name": "stdout",
     "output_type": "stream",
     "text": [
      "Accuracy: 70.08%\n"
     ]
    }
   ],
   "source": [
    "# %load ml18.py\n",
    "# Evaluate using a train and a test set\n",
    "from pandas import read_csv\n",
    "from sklearn.model_selection import train_test_split as split\n",
    "from sklearn.neighbors import KNeighborsClassifier\n",
    "header = ['preg', 'plas', 'pres', 'skin', 'test', 'mass', 'pedi', 'age', 'class']\n",
    "df = read_csv('data/pima-indians-diabetes.data.csv', names=header)\n",
    "X = df.drop(columns=['class'])\n",
    "y = df['class']\n",
    "# Split into training and testing sets\n",
    "X_train, X_test, y_train, y_test = split(X, y, test_size=0.33, random_state=42)\n",
    "model = KNeighborsClassifier()\n",
    "model.fit(X_train, y_train)\n",
    "result = model.score(X_test, y_test)\n",
    "print(f\"Accuracy: {result:.2%}\")\n"
   ]
  },
  {
   "cell_type": "code",
   "execution_count": 29,
   "id": "c9cc8191-b1cd-4532-82e5-6d37eb148814",
   "metadata": {},
   "outputs": [
    {
     "name": "stdout",
     "output_type": "stream",
     "text": [
      "Accuracy: 72.44%\n"
     ]
    }
   ],
   "source": [
    "# %load ml19.py\n",
    "# Evaluate using a train and a test set\n",
    "from pandas import read_csv\n",
    "from sklearn.model_selection import train_test_split as split\n",
    "from sklearn.neighbors import KNeighborsClassifier\n",
    "header = ['preg', 'plas', 'pres', 'skin', 'test', 'mass', 'pedi', 'age', 'class']\n",
    "df = read_csv('data/pima-indians-diabetes.data.csv', names=header)\n",
    "X = df.drop(columns=['class'])\n",
    "y = df['class']\n",
    "# Split into training and testing sets\n",
    "X_train, X_test, y_train, y_test = split(X, y, stratify=y, test_size=0.33, random_state=42)\n",
    "model = KNeighborsClassifier()\n",
    "model.fit(X_train, y_train)\n",
    "result = model.score(X_test, y_test)\n",
    "print(f\"Accuracy: {result:.2%}\")\n"
   ]
  },
  {
   "cell_type": "code",
   "execution_count": 31,
   "id": "4e2d8eb8-0a8e-450c-9f30-3835319c65c6",
   "metadata": {},
   "outputs": [
    {
     "name": "stdout",
     "output_type": "stream",
     "text": [
      "Accuracy: 72.14% (1.92%)\n"
     ]
    }
   ],
   "source": [
    "# %load ml20.py\n",
    "# Evaluate using Cross Validation\n",
    "from pandas import read_csv\n",
    "from sklearn.model_selection import KFold, cross_val_score\n",
    "from sklearn.neighbors import KNeighborsClassifier\n",
    "header = ['preg', 'plas', 'pres', 'skin', 'test', 'mass', 'pedi', 'age', 'class']\n",
    "df = read_csv('data/pima-indians-diabetes.data.csv', names=header)\n",
    "X = df.drop(columns=['class'])\n",
    "y = df['class']\n",
    "model = KNeighborsClassifier()\n",
    "# Create 3 partitions\n",
    "kfold = KFold(n_splits=3, shuffle=True, random_state=42)\n",
    "# Perform 3-fold cross-validation\n",
    "results = cross_val_score(model, X, y, cv=kfold)\n",
    "print(f\"Accuracy: {results.mean():.2%} ({results.std():.2%})\")\n"
   ]
  },
  {
   "cell_type": "code",
   "execution_count": 33,
   "id": "a6b62e0f-f865-49af-96ee-c59d4199efca",
   "metadata": {},
   "outputs": [
    {
     "name": "stdout",
     "output_type": "stream",
     "text": [
      "Accuracy: 70.18% (1.76%)\n"
     ]
    }
   ],
   "source": [
    "# Use stratified k-fold cross validation\n",
    "from pandas import read_csv\n",
    "from sklearn.model_selection import StratifiedKFold, cross_val_score\n",
    "from sklearn.neighbors import KNeighborsClassifier\n",
    "header = ['preg', 'plas', 'pres', 'skin', 'test', 'mass', 'pedi', 'age', 'class']\n",
    "df = read_csv('data/pima-indians-diabetes.data.csv', names=header)\n",
    "X = df.drop(columns=['class'])\n",
    "y = df['class']\n",
    "model = KNeighborsClassifier()\n",
    "# Create 3 partitions\n",
    "kfold = StratifiedKFold(n_splits=3, shuffle=True, random_state=42)\n",
    "# Perform 3-fold cross-validation\n",
    "results = cross_val_score(model, X, y, cv=kfold)\n",
    "print(f\"Accuracy: {results.mean():.2%} ({results.std():.2%})\")"
   ]
  },
  {
   "cell_type": "code",
   "execution_count": null,
   "id": "06224987-0edc-4e53-8d0d-992209a41658",
   "metadata": {},
   "outputs": [],
   "source": []
  }
 ],
 "metadata": {
  "kernelspec": {
   "display_name": "Python 3 (ipykernel)",
   "language": "python",
   "name": "python3"
  },
  "language_info": {
   "codemirror_mode": {
    "name": "ipython",
    "version": 3
   },
   "file_extension": ".py",
   "mimetype": "text/x-python",
   "name": "python",
   "nbconvert_exporter": "python",
   "pygments_lexer": "ipython3",
   "version": "3.12.4"
  }
 },
 "nbformat": 4,
 "nbformat_minor": 5
}
