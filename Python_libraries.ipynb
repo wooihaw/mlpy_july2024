{
 "cells": [
  {
   "cell_type": "markdown",
   "id": "6c18d513-fb9d-47ad-89dd-40ca14ed00a3",
   "metadata": {},
   "source": [
    "# Jupyter Lab\n",
    "JupyterLab is a web-based interactive development environment (IDE) for notebooks, code, and data"
   ]
  },
  {
   "cell_type": "markdown",
   "id": "133a56c2-e8e4-4cea-b222-1eaf62e6a092",
   "metadata": {},
   "source": [
    "This is a markdown cell"
   ]
  },
  {
   "cell_type": "markdown",
   "id": "022199ff-314f-401b-be16-7d2057ed6222",
   "metadata": {},
   "source": [
    "# This is currently a markdown cell.\n",
    "# Change it to a code cell to run the Python code\n",
    "for i in range(1, 10, 2):\n",
    "    print(f\"{i * '*':^10}\")"
   ]
  },
  {
   "cell_type": "code",
   "execution_count": null,
   "id": "7bdbc1a6-7396-4f39-86ba-a9dd475b7ced",
   "metadata": {},
   "outputs": [],
   "source": [
    "# To do: Insert a new cell above this cell"
   ]
  },
  {
   "cell_type": "code",
   "execution_count": null,
   "id": "2f7f015c-1251-4feb-8afc-be4d6c6ed112",
   "metadata": {},
   "outputs": [],
   "source": [
    "# To do: Insert a new cell below this cell"
   ]
  },
  {
   "cell_type": "code",
   "execution_count": null,
   "id": "ca003971-a2e8-4fe8-8e33-a23f92e0577e",
   "metadata": {},
   "outputs": [],
   "source": [
    "# To do: Delete this cell"
   ]
  },
  {
   "cell_type": "markdown",
   "id": "4c63069e-a838-4b78-a15d-31c614905e5c",
   "metadata": {},
   "source": [
    "# NumPy\n",
    "NumPy is the fundamental library for scientific computing with Python. NumPy is centered around a powerful N-dimensional array object, and it also contains useful linear algebra, random number functions etc."
   ]
  },
  {
   "cell_type": "code",
   "execution_count": null,
   "id": "85c19cef-4a87-4213-a940-9b58450bb329",
   "metadata": {},
   "outputs": [],
   "source": [
    "# Create numpy array\n",
    "import numpy as np\n",
    "\n",
    "a = np.zeros(5)\n",
    "b = np.ones([2, 3])\n",
    "c = np.full(10, 1.5)\n",
    "d = np.repeat([1, 2, 3], 5)\n",
    "e = np.array([1, 2, 3])\n",
    "f = np.arange(0, 5, 0.5)\n",
    "g = np.linspace(0, 1, 11)\n",
    "\n",
    "# To do: Print the values of variable a, b, c, d, e, f, g\n"
   ]
  },
  {
   "cell_type": "code",
   "execution_count": null,
   "id": "99bf6e75-2055-4dcf-905a-c577599819eb",
   "metadata": {},
   "outputs": [],
   "source": [
    "# Reshaping numpy array\n",
    "h = np.arange(0, 5, 0.5)\n",
    "i = h.reshape(2, 5)\n",
    "j = h.reshape(5, -1)\n",
    "\n",
    "# To do: print the values of variable h, i and j\n"
   ]
  },
  {
   "cell_type": "code",
   "execution_count": null,
   "id": "21970fdd-c2ed-47c4-9e17-2e4296b82e21",
   "metadata": {},
   "outputs": [],
   "source": [
    "# Indexing and slicing operations\n",
    "k = np.random.randint(1, 6, [3, 4])\n",
    "l = k[2, 3]\n",
    "m = k [0, :]\n",
    "n = k[:, -1]\n",
    "o = k[:, :-1]\n",
    "\n",
    "# To do: Print the values of variable k, l, m, n and o\n"
   ]
  },
  {
   "cell_type": "markdown",
   "id": "600963da-8e5d-4cd3-b696-4533a0e7e9b0",
   "metadata": {},
   "source": [
    "# Matplotlib\n",
    "Use the matplotlib library to plot beautiful graphs"
   ]
  },
  {
   "cell_type": "code",
   "execution_count": null,
   "id": "0572f5ab-54f3-41c7-b2b7-efd61e85c056",
   "metadata": {},
   "outputs": [],
   "source": [
    "# Plot in the same cell\n",
    "%matplotlib inline"
   ]
  },
  {
   "cell_type": "code",
   "execution_count": null,
   "id": "f4cfe16c-6dba-415c-8a25-2a28f25032f1",
   "metadata": {},
   "outputs": [],
   "source": [
    "# Standard way to import matplotlib\n",
    "import matplotlib.pyplot as plt\n",
    "\n",
    "# Usually used with numpy\n",
    "import numpy as np"
   ]
  },
  {
   "cell_type": "code",
   "execution_count": null,
   "id": "7b9fb854-ce10-48c5-99ab-4f478e7923bc",
   "metadata": {},
   "outputs": [],
   "source": [
    "# Plot a sine wave\n",
    "f = 1\n",
    "x = np.linspace(-1, 1, 50)\n",
    "y = np.sin(2 * np.pi * f * x)\n",
    "\n",
    "plt.figure(figsize=(6, 6))\n",
    "plt.plot(x, y, 'b', label='Sine')\n",
    "plt.xlim(-1, 1)\n",
    "plt.ylim(-1, 1)\n",
    "plt.xticks(np.linspace(-1, 1, 9))\n",
    "plt.yticks(np.linspace(-1, 1, 5))\n",
    "plt.legend(loc='best')\n",
    "plt.grid(axis='both')\n",
    "plt.xlabel('x-coord')\n",
    "plt.ylabel('y-coord')\n",
    "plt.title('Sine wave')\n",
    "plt.show()"
   ]
  },
  {
   "cell_type": "code",
   "execution_count": null,
   "id": "c00b96b7-431d-443e-8cc1-343d652b3787",
   "metadata": {},
   "outputs": [],
   "source": [
    "# Plot the historgram for normally distributed random numbers\n",
    "np.random.seed(42)\n",
    "values = np.random.randn(10000)\n",
    "\n",
    "plt.hist(values, color='b', bins=50)\n",
    "plt.xlabel('Value')\n",
    "plt.ylabel('Frequency of occurrence')\n",
    "plt.title('Historgram of normally distributed random numbers')\n",
    "plt.grid(axis='y')\n",
    "plt.show()"
   ]
  },
  {
   "cell_type": "code",
   "execution_count": null,
   "id": "aa69bfc1-d8d2-43d0-bef4-8f09af69a74d",
   "metadata": {},
   "outputs": [],
   "source": [
    "# Plot a vertical bar chart\n",
    "x = ['A', 'B', 'C', 'F']\n",
    "y = [21, 42, 29, 8]\n",
    "\n",
    "plt.bar(x, y, color=['b', 'g', 'g', 'r'])\n",
    "plt.xlabel('Grade')\n",
    "plt.ylabel('No. of students')\n",
    "plt.title('Summary of results')\n",
    "plt.show()"
   ]
  },
  {
   "cell_type": "markdown",
   "id": "02d3e0a6-98cf-4097-a9ac-0f150c8432e4",
   "metadata": {},
   "source": [
    "# Pandas\n",
    "The Pandas library provides high-performance, easy-to-use data structures and analysis tools for tabular data"
   ]
  },
  {
   "cell_type": "code",
   "execution_count": null,
   "id": "a7e93e39-fa14-45a3-9155-2b77f51be23e",
   "metadata": {},
   "outputs": [],
   "source": [
    "# Standard way to import the Pandas library\n",
    "import pandas as pd\n",
    "\n",
    "# Usually used together with NumPy and Matplotlib\n",
    "import numpy as np\n",
    "import matplotlib.pyplot as plt"
   ]
  },
  {
   "cell_type": "code",
   "execution_count": null,
   "id": "1d3e7a80-e336-4f89-8b26-58415946e9e0",
   "metadata": {},
   "outputs": [],
   "source": [
    "# Create a Pandas series from array\n",
    "f1 = 1\n",
    "x1 = np.linspace(0, 1, 11)\n",
    "y1 = np.sin(2 * np.pi * f1 * x1)\n",
    "\n",
    "# Create a series\n",
    "signal1 = pd.Series(y1, name='y1')\n",
    "\n",
    "# To do: Print the value of variable signal1\n"
   ]
  },
  {
   "cell_type": "code",
   "execution_count": null,
   "id": "27f2f2a2-2388-4ff9-ba40-48b881fa1c14",
   "metadata": {},
   "outputs": [],
   "source": [
    "# Create DataFrame from NumPy arrays\n",
    "f1, f2 = 0.5, 1\n",
    "x = np.linspace(0, 1, 11)\n",
    "y1 = np.sin(2 * np.pi * f1 * x)\n",
    "y2 = np.sin(2 * np.pi * f2 * x)\n",
    "\n",
    "print(f\"{y1 = }\")\n",
    "print(f\"{y2 = }\")\n",
    "\n",
    "# Create DataFrame\n",
    "df1 = pd.DataFrame(data={'y1':y1, 'y2':y2})\n",
    "\n",
    "# To do: Print the value of variable df1\n"
   ]
  },
  {
   "cell_type": "code",
   "execution_count": null,
   "id": "9507fd49-348a-4862-a300-c0640cd6dcd9",
   "metadata": {},
   "outputs": [],
   "source": [
    "# Access Row 1\n",
    "arow1 = df1.loc[1]\n",
    "arow2 = df1.iloc[1]\n",
    "\n",
    "# Access Column y2\n",
    "acol1 = df1.loc[:, \"y2\"]\n",
    "acol2 = df1.iloc[:, 1]\n",
    "acol3 = df1[\"y2\"]\n",
    "\n",
    "# To do: Print the values of variable  arow1, arow2, acol1, acol2\n"
   ]
  },
  {
   "cell_type": "code",
   "execution_count": null,
   "id": "d5fa08f7-9dd3-49bc-8654-aa8467256884",
   "metadata": {},
   "outputs": [],
   "source": [
    "# Read from a CSV file\n",
    "df2 = pd.read_csv(\"data/iris_data.csv\")\n",
    "\n",
    "# To do: Print the value of variable df2\n"
   ]
  },
  {
   "cell_type": "code",
   "execution_count": null,
   "id": "a0ff4cbb-ec45-487a-9921-811d13ee80a0",
   "metadata": {},
   "outputs": [],
   "source": [
    "# Print the first 5 rows of df2\n",
    "df2.head(5)"
   ]
  },
  {
   "cell_type": "code",
   "execution_count": null,
   "id": "032600e5-fd70-4e60-b911-fa9bc555ba89",
   "metadata": {},
   "outputs": [],
   "source": [
    "# Print a summary of df2\n",
    "df2.info()"
   ]
  },
  {
   "cell_type": "code",
   "execution_count": null,
   "id": "16558779-ac9b-4603-ade1-1bf4a8f7df23",
   "metadata": {},
   "outputs": [],
   "source": [
    "# Extract first 4 columns of df2\n",
    "X1 = df2.iloc[:, 0:4]\n",
    "X2 = df2.iloc[:, :-1]\n",
    "X3 = df2.drop(columns=[\"species\"])\n",
    "\n",
    "# Extract the last (rightmost) column\n",
    "y1 = df2.iloc[:, 4]\n",
    "y2 = df2.iloc[:, -1]\n",
    "y3 = df2[\"species\"]\n",
    "\n",
    "# To do: Print the values of variable X1, X2, X3, y1, y2, y3\n"
   ]
  },
  {
   "cell_type": "code",
   "execution_count": null,
   "id": "5cf214d0-7717-4f9b-861a-8b4c40a77ccd",
   "metadata": {},
   "outputs": [],
   "source": [
    "# Show all rows where the species is \"Versicolor\"\n",
    "df3 = df2[df2[\"species\"] == \"Iris-versicolor\"]\n",
    "\n",
    "# To do: Print the value of variable df3\n"
   ]
  },
  {
   "cell_type": "code",
   "execution_count": null,
   "id": "acd2db85-59b9-412a-909c-7b9a75c687bc",
   "metadata": {},
   "outputs": [],
   "source": [
    "mean1 = df2[\"sepal_length\"].mean()\n",
    "median2 = df2[\"sepal_width\"].median()\n",
    "std3 = df2[\"petal_length\"].std()\n",
    "var4 = df2[\"petal_width\"].var()\n",
    "\n",
    "# To do: Print the values of variable mean1, median2, std3, var4\n"
   ]
  },
  {
   "cell_type": "code",
   "execution_count": null,
   "id": "5b3e7150-3176-4644-84c2-1c61e65e3615",
   "metadata": {},
   "outputs": [],
   "source": [
    "# Multiple statisccal calculations can be presented in a DataFrame\n",
    "df2.describe()"
   ]
  },
  {
   "cell_type": "code",
   "execution_count": null,
   "id": "af0f3c93-a1a7-462b-8a29-7ffefa047fed",
   "metadata": {},
   "outputs": [],
   "source": [
    "# Create a new column that is a product of two columns\n",
    "df2['sepal_area'] = df2[\"sepal_length\"] * df2[\"sepal_width\"]\n",
    "\n",
    "# To do: print the value of variable df2\n"
   ]
  },
  {
   "cell_type": "code",
   "execution_count": null,
   "id": "23f46a8a-56a3-4a04-8791-83ce96d68013",
   "metadata": {},
   "outputs": [],
   "source": [
    "# Line plot\n",
    "df2[\"sepal_length\"].plot()"
   ]
  },
  {
   "cell_type": "code",
   "execution_count": null,
   "id": "e2d2bd50-e8ca-4ef3-9c80-37ce44996d59",
   "metadata": {},
   "outputs": [],
   "source": [
    "# Histogram\n",
    "df2[\"sepal_width\"].hist(bins=25, color=\"green\")"
   ]
  },
  {
   "cell_type": "code",
   "execution_count": null,
   "id": "9405f95d-e50a-463d-83ff-5077d9a51dbb",
   "metadata": {},
   "outputs": [],
   "source": [
    "# Scatter plot\n",
    "df2.plot.scatter(x=\"petal_length\", y=\"petal_width\", c=\"red\", marker=\"o\")"
   ]
  }
 ],
 "metadata": {
  "kernelspec": {
   "display_name": "Python 3 (ipykernel)",
   "language": "python",
   "name": "python3"
  },
  "language_info": {
   "codemirror_mode": {
    "name": "ipython",
    "version": 3
   },
   "file_extension": ".py",
   "mimetype": "text/x-python",
   "name": "python",
   "nbconvert_exporter": "python",
   "pygments_lexer": "ipython3",
   "version": "3.12.4"
  }
 },
 "nbformat": 4,
 "nbformat_minor": 5
}
